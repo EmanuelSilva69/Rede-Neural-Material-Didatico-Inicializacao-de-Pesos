{
  "nbformat": 4,
  "nbformat_minor": 0,
  "metadata": {
    "colab": {
      "provenance": []
    },
    "kernelspec": {
      "name": "python3",
      "display_name": "Python 3"
    },
    "language_info": {
      "name": "python"
    }
  },
  "cells": [
    {
      "cell_type": "markdown",
      "source": [
        "#Métodos de Inicialização de Pesos"
      ],
      "metadata": {
        "id": "90Mkn1cw5IK5"
      }
    },
    {
      "cell_type": "markdown",
      "source": [
        "##Inicialização Aleatória"
      ],
      "metadata": {
        "id": "oE8hVJ0b5OmR"
      }
    },
    {
      "cell_type": "markdown",
      "source": [
        "##Inicialização Xavier/Glorot"
      ],
      "metadata": {
        "id": "XkYdsyms8Ixe"
      }
    },
    {
      "cell_type": "markdown",
      "source": [
        "##Inicialização He"
      ],
      "metadata": {
        "id": "VBfegN988Nxd"
      }
    },
    {
      "cell_type": "markdown",
      "source": [
        "##Inicialização Zero"
      ],
      "metadata": {
        "id": "tWkdEcFb9lZR"
      }
    },
    {
      "cell_type": "markdown",
      "source": [
        "##Comparação Com Experimento"
      ],
      "metadata": {
        "id": "6v1qt2569oFm"
      }
    },
    {
      "cell_type": "markdown",
      "source": [
        "#Impacto da Inicialização de Pesos\n",
        "\n"
      ],
      "metadata": {
        "id": "nzq6Sw9h-juD"
      }
    },
    {
      "cell_type": "markdown",
      "source": [
        "##Importância da inicialização de pesos\n"
      ],
      "metadata": {
        "id": "p07tpPZW-xk8"
      }
    },
    {
      "cell_type": "markdown",
      "source": [
        "##Problemas causados por inicialização inadequada:\n"
      ],
      "metadata": {
        "id": "ubbp022l-0E3"
      }
    },
    {
      "cell_type": "markdown",
      "source": [
        "###Gradientes explosivos (exploding gradients)\n"
      ],
      "metadata": {
        "id": "cM2HbeZD-4br"
      }
    },
    {
      "cell_type": "markdown",
      "source": [
        "###Gradientes desaparecendo (vanishing gradients)"
      ],
      "metadata": {
        "id": "aoeyrRUC_FbH"
      }
    },
    {
      "cell_type": "markdown",
      "source": [
        "##Testes práticos comparando os métodos de inicialização"
      ],
      "metadata": {
        "id": "EyM7fv5u_MLS"
      }
    },
    {
      "cell_type": "markdown",
      "source": [
        "##Gráficos de convergência e impacto na performance"
      ],
      "metadata": {
        "id": "vEcFmr1C-9Pj"
      }
    },
    {
      "cell_type": "code",
      "execution_count": null,
      "metadata": {
        "id": "K0-6AjB44kwg"
      },
      "outputs": [],
      "source": []
    }
  ]
}