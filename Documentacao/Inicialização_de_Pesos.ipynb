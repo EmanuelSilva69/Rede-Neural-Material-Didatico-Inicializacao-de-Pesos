{
  "nbformat": 4,
  "nbformat_minor": 0,
  "metadata": {
    "colab": {
      "provenance": []
    },
    "kernelspec": {
      "name": "python3",
      "display_name": "Python 3"
    },
    "language_info": {
      "name": "python"
    }
  },
  "cells": [
    {
      "cell_type": "markdown",
      "source": [
        "#Métodos de Inicialização de Pesos"
      ],
      "metadata": {
        "id": "90Mkn1cw5IK5"
      }
    },
    {
      "cell_type": "markdown",
      "source": [
        "Os métodos de inicialização de pesos em redes neurais são técnicas utilizadas para definir os valores iniciais dos parâmetros de uma rede antes do treinamento.\n",
        "\n",
        "A escolha da inicialização pode impactar diretamente a convergência do modelo, afetando a estabilidade do gradiente e a velocidade de aprendizado. Inicializações inadequadas podem levar a problemas como gradientes desaparecendo (vanishing gradients) ou gradientes explosivos (exploding gradients), dificultando o treinamento da rede.\n",
        "\n",
        "Para mitigar esses problemas, diferentes estratégias foram desenvolvidas, como inicialização aleatória, Xavier/Glorot, He e até inicialização zero (que, apesar de ser um caso extremo, exemplifica a importância de um bom método).\n",
        "\n",
        "O objetivo principal dessas abordagens é garantir que os pesos sejam pequenos o suficiente para evitar explosões de gradientes, mas suficientemente diversos para que diferentes neurônios aprendam representações distintas dos dados.\n",
        "\n"
      ],
      "metadata": {
        "id": "eORGGF0UhLFJ"
      }
    },
    {
      "cell_type": "markdown",
      "source": [
        "##Inicialização Aleatória"
      ],
      "metadata": {
        "id": "oE8hVJ0b5OmR"
      }
    },
    {
      "cell_type": "markdown",
      "source": [
        "A inicialização aleatória de pesos é uma das estratégias mais simples utilizadas para definir os valores iniciais dos parâmetros em redes neurais antes do treinamento. Seu principal objetivo é evitar a simetria entre os neurônios, garantindo que cada um aprenda diferentes padrões dos dados. Se todos os pesos fossem inicializados com zero, os neurônios dentro de uma mesma camada receberiam gradientes idênticos, tornando-se redundantes e limitando a capacidade da rede. Para evitar esse problema, os pesos podem ser gerados aleatoriamente a partir de distribuições uniformes ou normais (gaussianas). Na distribuição uniforme, os pesos são amostrados dentro de um intervalo\n",
        "[\n",
        "−\n",
        "𝑟\n",
        ",\n",
        "𝑟\n",
        "]\n",
        ", enquanto na distribuição normal, os pesos seguem uma distribuição gaussiana com média zero e um desvio padrão controlado. No entanto, a inicialização aleatória pura pode causar problemas como gradientes explosivos (se os valores dos pesos forem muito grandes) ou gradientes desaparecendo (se forem muito pequenos), dificultando o treinamento da rede. Além disso, a escolha inadequada da distribuição pode interagir negativamente com funções de ativação como sigmoid e tanh, levando a saturação e reduzindo a eficiência da retropropagação. Por conta dessas limitações, métodos mais avançados, como Xavier/Glorot e He, foram desenvolvidos para ajustar dinamicamente os valores iniciais dos pesos de acordo com a arquitetura da rede, otimizando a propagação dos gradientes e melhorando a estabilidade do treinamento."
      ],
      "metadata": {
        "id": "Hl31iJHzUpze"
      }
    },
    {
      "cell_type": "markdown",
      "source": [
        "###Formulas\n",
        "\n"
      ],
      "metadata": {
        "id": "Ji5F0rB1UxjN"
      }
    },
    {
      "cell_type": "markdown",
      "source": [
        "A inicialização aleatória de pesos em redes neurais é essencial para evitar a simetria entre os neurônios e permitir um aprendizado eficaz. Para isso, dois métodos comuns de geração de pesos são a distribuição uniforme e a distribuição normal (gaussiana). Ambas são utilizadas para definir valores iniciais dos pesos antes do treinamento da rede, mas cada uma tem suas características específicas e aplicações ideais."
      ],
      "metadata": {
        "id": "pf0iQBffeAWz"
      }
    },
    {
      "cell_type": "markdown",
      "source": [
        "A inicialização uniforme define os pesos\n",
        "𝑊\n",
        "W dentro de um intervalo\n",
        "[\n",
        "−\n",
        "𝑟\n",
        ",\n",
        "𝑟\n",
        "]\n",
        ", onde todos os valores dentro desse intervalo têm a mesma probabilidade de serem escolhidos. A fórmula geral para a distribuição uniforme é:\n",
        "\n",
        "𝑊\n",
        "∼\n",
        "𝑈\n",
        "(\n",
        "−\n",
        "𝑟\n",
        ",\n",
        "𝑟\n",
        ")\n",
        "\n",
        "Isso significa que os pesos são amostrados de uma distribuição uniforme no intervalo definido. A função densidade de probabilidade (PDF) dessa distribuição é dada por:\n",
        "\n",
        "$$\\\n",
        "P(W) =\n",
        "\\begin{cases}\n",
        "\\frac{1}{2r}, & \\text{se } -r \\leq W \\leq r \\\\\n",
        "0, & \\text{caso contrário}\n",
        "\\end{cases}$$\n",
        "\n",
        "Ou seja, todos os valores dentro do intervalo possuem a mesma probabilidade\n",
        "$ \\frac{1}{2r} $ , garantindo que os pesos sejam distribuídos de maneira uniforme.\n",
        "\n",
        "O valor de\n",
        "𝑟 pode ser determinado empiricamente ou definido com base no número de neurônios na camada. Se os pesos forem muito grandes, podem causar exploding gradients; se forem muito pequenos, podem levar a vanishing gradients.\n",
        "\n",
        "Essa inicialização tem algumas vantagens e desvantagens, como as seguintes:\n",
        "\n",
        "Vantagem: Simplicidade e controle explícito sobre o intervalo dos pesos.\n",
        "\n",
        "Desvantagem: Pode não ser ideal para funções de ativação como sigmoid e tanh, pois não leva em conta a variação do gradiente.\n",
        "\n"
      ],
      "metadata": {
        "id": "W0yTVK8dWwoQ"
      }
    },
    {
      "cell_type": "markdown",
      "source": [
        "Outra abordagem comum é inicializar os pesos seguindo uma distribuição normal (gaussiana) com média zero e variância\n",
        "𝜎\n",
        "2\n",
        " , ou seja:\n",
        "\n",
        "𝑊\n",
        "∼\n",
        "𝑁\n",
        "(\n",
        "0\n",
        ",\n",
        "𝜎\n",
        "2\n",
        ")\n",
        "\n",
        "A função densidade de probabilidade (PDF) para a distribuição normal é:\n",
        "\n",
        "$$\n",
        "P(W) = \\frac{1}{\\sqrt{2\\pi\\sigma^2}} e^{-\\frac{W^2}{2\\sigma^2}}\n",
        "$$\n",
        "\n",
        "Isso significa que os pesos estarão concentrados em torno da média 0, com maior probabilidade de assumir valores próximos de zero e menos probabilidade de assumir valores extremos.\n",
        "\n",
        "Escolha de\n",
        "𝜎\n",
        ": O desvio padrão\n",
        "𝜎\n",
        " precisa ser ajustado para garantir que os gradientes não sejam muito grandes nem muito pequenos.\n",
        "Existem algumas vantagens desse método de iniciação, e desventagens, descritas a seguir:\n",
        "\n",
        "Vantagem: Apresenta Variância do Gradiente equilibrada entre as camadas, Melhor compatibilidade com redes profundas e algumas funções de ativação, além de  resolver o problema de Simetria entre Neurônios ao atribuir pesos ligeiramente diferentes para cada neurônio, permitindo que cada um aprenda representações distintas.\n",
        "\n",
        "Desvantagem: Pode ser sensível ao valor escolhido para\n",
        "𝜎\n",
        "σ, exigindo ajuste cuidadoso."
      ],
      "metadata": {
        "id": "7ZpgEjbkvfES"
      }
    },
    {
      "cell_type": "markdown",
      "source": [
        "##Inicialização Xavier/Glorot"
      ],
      "metadata": {
        "id": "XkYdsyms8Ixe"
      }
    },
    {
      "cell_type": "markdown",
      "source": [
        "##Inicialização He"
      ],
      "metadata": {
        "id": "VBfegN988Nxd"
      }
    },
    {
      "cell_type": "markdown",
      "source": [
        "##Inicialização Zero"
      ],
      "metadata": {
        "id": "tWkdEcFb9lZR"
      }
    },
    {
      "cell_type": "markdown",
      "source": [
        "##Comparação Com Experimento"
      ],
      "metadata": {
        "id": "6v1qt2569oFm"
      }
    },
    {
      "cell_type": "markdown",
      "source": [
        "#Impacto da Inicialização de Pesos\n",
        "\n"
      ],
      "metadata": {
        "id": "nzq6Sw9h-juD"
      }
    },
    {
      "cell_type": "markdown",
      "source": [
        "##Importância da inicialização de pesos\n"
      ],
      "metadata": {
        "id": "p07tpPZW-xk8"
      }
    },
    {
      "cell_type": "markdown",
      "source": [
        "##Problemas causados por inicialização inadequada:\n"
      ],
      "metadata": {
        "id": "ubbp022l-0E3"
      }
    },
    {
      "cell_type": "markdown",
      "source": [
        "###Gradientes explosivos (exploding gradients)\n"
      ],
      "metadata": {
        "id": "cM2HbeZD-4br"
      }
    },
    {
      "cell_type": "markdown",
      "source": [
        "###Gradientes desaparecendo (vanishing gradients)"
      ],
      "metadata": {
        "id": "aoeyrRUC_FbH"
      }
    },
    {
      "cell_type": "markdown",
      "source": [
        "##Testes práticos comparando os métodos de inicialização"
      ],
      "metadata": {
        "id": "EyM7fv5u_MLS"
      }
    },
    {
      "cell_type": "markdown",
      "source": [
        "##Gráficos de convergência e impacto na performance"
      ],
      "metadata": {
        "id": "vEcFmr1C-9Pj"
      }
    },
    {
      "cell_type": "code",
      "execution_count": null,
      "metadata": {
        "id": "K0-6AjB44kwg"
      },
      "outputs": [],
      "source": []
    }
  ]
}